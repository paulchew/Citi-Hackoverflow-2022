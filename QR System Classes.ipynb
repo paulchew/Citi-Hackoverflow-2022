{
 "cells": [
  {
   "cell_type": "markdown",
   "id": "0eebbc6b",
   "metadata": {},
   "source": [
    "### Customer Database\n",
    "- attr: username, password, qr_images, loyaltyPoint"
   ]
  },
  {
   "cell_type": "markdown",
   "id": "98535aba",
   "metadata": {},
   "source": [
    "### Vendor Database\n",
    "- attr: username, password"
   ]
  },
  {
   "cell_type": "code",
   "execution_count": 23,
   "id": "b0e5d2f5",
   "metadata": {},
   "outputs": [],
   "source": [
    "# takes the Customer instance and updates customer database\n",
    "def updateDatabase(Customer):        \n",
    "    return"
   ]
  },
  {
   "cell_type": "markdown",
   "id": "492b28ab",
   "metadata": {},
   "source": [
    "### UserRetriever\n",
    "- search user or vendor database and returns the user or vendor class"
   ]
  },
  {
   "cell_type": "code",
   "execution_count": 154,
   "id": "cda65973",
   "metadata": {},
   "outputs": [],
   "source": [
    "class UserRetriever():\n",
    "    def retrieveCustomer(username, password):\n",
    "        # Search customer database and return customer class\n",
    "        return Customer()\n",
    "        \n",
    "    \n",
    "    def retrieveVendor(username, password):\n",
    "        # Search vendor database and return vendor class\n",
    "        return Vendor()\n",
    "        "
   ]
  },
  {
   "cell_type": "markdown",
   "id": "ea0d5f72",
   "metadata": {},
   "source": [
    "### QRGenerator"
   ]
  },
  {
   "cell_type": "code",
   "execution_count": 47,
   "id": "93c06a90",
   "metadata": {},
   "outputs": [],
   "source": [
    "import qrcode\n",
    "class QRGenerator():\n",
    "    def __init__(self): \n",
    "        self.qr_generator = qrcode.QRCode(version=1,\n",
    "                                          box_size=10,\n",
    "                                          border=5)\n",
    "        \n",
    "    def generate_qr(self,username, voucherID):\n",
    "                    input_data = f\"{username},{voucherID}\"\n",
    "                    self.qr_generator.clear()\n",
    "                    self.qr_generator.add_data(input_data)\n",
    "                    return self.qr_generator.make_image() "
   ]
  },
  {
   "cell_type": "code",
   "execution_count": 48,
   "id": "0c09871d",
   "metadata": {},
   "outputs": [
    {
     "data": {
      "image/png": "[encoded data removed]",
      "text/plain": [
       "<qrcode.image.pil.PilImage at 0x13ba65bd6a0>"
      ]
     },
     "execution_count": 48,
     "metadata": {},
     "output_type": "execute_result"
    }
   ],
   "source": [
    "Gen  = QRGenerator()\n",
    "Gen.generate_qr(\"jacky\",\"V124\")    # scanning this gives \"jacky,V124\""
   ]
  },
  {
   "cell_type": "markdown",
   "id": "6f9d5196",
   "metadata": {},
   "source": [
    "### Customer"
   ]
  },
  {
   "cell_type": "code",
   "execution_count": 43,
   "id": "c653c3f9",
   "metadata": {},
   "outputs": [],
   "source": [
    "class Customer():\n",
    "    def __init__(self, username:str, password:str,qr_images:list , loyaltyPoints: int): \n",
    "        self.username = username\n",
    "        self.password = password\n",
    "        self.qr_images = qr_images\n",
    "        self.loyaltyPoints = loyaltyPoints\n",
    "        self.cart = {\"10 Dollar Voucher\": 0,\n",
    "                     \"20 Dollar Voucher\": 0,\n",
    "                     \"50 Dollar Voucher\": 0,\n",
    "                     \"100 Dollar Voucher\": 0} \n",
    "        \n",
    "    def add_voucher(self, voucherAmount):\n",
    "        self.cart[voucherAmount]+=1\n",
    "    def drop_voucher(self, voucherAmount):\n",
    "        if self.cart[voucherAmount]>0:\n",
    "            self.cart[voucherAmount]-=1\n",
    "                \n",
    "    def purchase(self):\n",
    "        return\n",
    "        # assume payment made successfully\n",
    "        # generate QR for every voucher in cart\n",
    "        # update database  "
   ]
  },
  {
   "cell_type": "code",
   "execution_count": 44,
   "id": "463aaa92",
   "metadata": {},
   "outputs": [],
   "source": [
    "C = Customer(\"Jack\",\"eedo1dw029\",[],100)"
   ]
  },
  {
   "cell_type": "code",
   "execution_count": 45,
   "id": "d65b1877",
   "metadata": {},
   "outputs": [],
   "source": [
    "C.add_voucher(\"100 Dollar Voucher\")\n",
    "C.add_voucher(\"50 Dollar Voucher\")\n",
    "C.drop_voucher(\"50 Dollar Voucher\")"
   ]
  },
  {
   "cell_type": "markdown",
   "id": "e42d4070",
   "metadata": {},
   "source": [
    "### Vendor"
   ]
  },
  {
   "cell_type": "code",
   "execution_count": null,
   "id": "dc448e94",
   "metadata": {},
   "outputs": [],
   "source": [
    "class Vendor():\n",
    "    def __init__(self,username,password):\n",
    "        self.username = username\n",
    "        self.password = password\n",
    "    def scanQR()\n",
    "        # should update customer database/ remove the voucher"
   ]
  },
  {
   "cell_type": "code",
   "execution_count": null,
   "id": "d7ba835e",
   "metadata": {},
   "outputs": [],
   "source": []
  },
  {
   "cell_type": "code",
   "execution_count": null,
   "id": "471f7167",
   "metadata": {},
   "outputs": [],
   "source": []
  },
  {
   "cell_type": "code",
   "execution_count": null,
   "id": "abe7dc77",
   "metadata": {},
   "outputs": [],
   "source": []
  },
  {
   "cell_type": "code",
   "execution_count": null,
   "id": "514be763",
   "metadata": {},
   "outputs": [],
   "source": []
  },
  {
   "cell_type": "code",
   "execution_count": null,
   "id": "1a62a860",
   "metadata": {},
   "outputs": [],
   "source": []
  }
 ],
 "metadata": {
  "kernelspec": {
   "display_name": "Python 3",
   "language": "python",
   "name": "python3"
  },
  "language_info": {
   "codemirror_mode": {
    "name": "ipython",
    "version": 3
   },
   "file_extension": ".py",
   "mimetype": "text/x-python",
   "name": "python",
   "nbconvert_exporter": "python",
   "pygments_lexer": "ipython3",
   "version": "3.8.3"
  }
 },
 "nbformat": 4,
 "nbformat_minor": 5
}
