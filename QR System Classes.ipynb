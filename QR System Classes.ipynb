{
 "cells": [
  {
   "cell_type": "markdown",
   "id": "0eebbc6b",
   "metadata": {},
   "source": [
    "### Customer Database\n",
    "- attr: username, password, qr_images, loyaltyPoint"
   ]
  },
  {
   "cell_type": "markdown",
   "id": "98535aba",
   "metadata": {},
   "source": [
    "### Vendor Database\n",
    "- attr: username, password"
   ]
  },
  {
   "cell_type": "code",
   "execution_count": 23,
   "id": "b0e5d2f5",
   "metadata": {},
   "outputs": [],
   "source": [
    "# takes the Customer and updates customer database\n",
    "def updateCustomer(Customer):        \n",
    "    return \n"
   ]
  },
  {
   "cell_type": "markdown",
   "id": "492b28ab",
   "metadata": {},
   "source": [
    "### UserRetriever\n",
    "- search user or vendor database and returns the user or vendor class"
   ]
  },
  {
   "cell_type": "code",
   "execution_count": 154,
   "id": "cda65973",
   "metadata": {},
   "outputs": [],
   "source": [
    "class UserRetriever():\n",
    "    def retrieveCustomer(username, password):\n",
    "        # Search customer database and return customer class\n",
    "        return Customer()\n",
    "        \n",
    "    \n",
    "    def retrieveVendor(username, password):\n",
    "        # Search vendor database and return vendor class\n",
    "        return Vendor()\n",
    "        "
   ]
  },
  {
   "cell_type": "markdown",
   "id": "d0711da3",
   "metadata": {},
   "source": [
    "### Voucher\n",
    "- every voucher has a voucherID and associated with a username and amount\n",
    "- QR using generate_qr_image() only when needed"
   ]
  },
  {
   "cell_type": "code",
   "execution_count": 44,
   "id": "d33d4696",
   "metadata": {},
   "outputs": [],
   "source": [
    "import uuid\n",
    "import qrcode\n",
    "class Voucher():\n",
    "    def __init__(self, username, amount):\n",
    "        self.username = username                                     # tagged to customer's username\n",
    "        self.amount = amount\n",
    "        self.voucherID = uuid.uuid1().hex\n",
    "    def get_voucherID(self):\n",
    "        return self.voucherID\n",
    "    def get_amount(self):\n",
    "        return self.amount\n",
    "    def get_username(self):\n",
    "        return self.username\n",
    "    def generate_qr(self):\n",
    "        qr_generator = qrcode.QRCode(version=1,\n",
    "                                     box_size=10,\n",
    "                                     border=5)\n",
    "        input_data = f\"{self.username},{self.voucherID},{self.amount}\"\n",
    "        qr_generator.clear()\n",
    "        qr_generator.add_data(input_data)\n",
    "        return qr_generator.make_image() "
   ]
  },
  {
   "cell_type": "code",
   "execution_count": 45,
   "id": "260a7d67",
   "metadata": {},
   "outputs": [],
   "source": [
    "V = Voucher(\"jacky\",50)"
   ]
  },
  {
   "cell_type": "code",
   "execution_count": 46,
   "id": "2cfbcd09",
   "metadata": {},
   "outputs": [
    {
     "data": {
      "text/plain": [
       "('b39e5e55f41511eb979b9cb6d0216836', 50, 'jacky')"
      ]
     },
     "execution_count": 46,
     "metadata": {},
     "output_type": "execute_result"
    }
   ],
   "source": [
    "V.get_voucherID(),V.get_amount(),V.get_username()"
   ]
  },
  {
   "cell_type": "code",
   "execution_count": 47,
   "id": "9a8559a6",
   "metadata": {},
   "outputs": [
    {
     "data": {
      "image/png": "[encoded data removed]",
      "text/plain": [
       "<qrcode.image.pil.PilImage at 0x130a45c07c0>"
      ]
     },
     "execution_count": 47,
     "metadata": {},
     "output_type": "execute_result"
    }
   ],
   "source": [
    "V.generate_qr()"
   ]
  },
  {
   "cell_type": "markdown",
   "id": "6f9d5196",
   "metadata": {},
   "source": [
    "### Customer\n",
    "- customer is identified by username\n",
    "- customer will have password, Vouchers( list of Voucher and loyalty points)"
   ]
  },
  {
   "cell_type": "code",
   "execution_count": 48,
   "id": "c653c3f9",
   "metadata": {},
   "outputs": [],
   "source": [
    "class Customer():\n",
    "    def __init__(self, \n",
    "                 username:str, \n",
    "                 # password:str, \n",
    "                 Vouchers:list , \n",
    "                 loyaltyPoints: int): \n",
    "        self.username = username\n",
    "        # self.password = password\n",
    "        self.Vouchers = Vouchers\n",
    "        self.loyaltyPoints = loyaltyPoints\n",
    "        self.cart = {10: 0,                    # these are the only voucher options\n",
    "                     20: 0,\n",
    "                     50: 0,\n",
    "                     100: 0} \n",
    "        \n",
    "    def add_voucher(self, voucherAmount):\n",
    "        self.cart[voucherAmount]+=1\n",
    "    def drop_voucher(self, voucherAmount):\n",
    "        if self.cart[voucherAmount]>0:\n",
    "            self.cart[voucherAmount]-=1\n",
    "                \n",
    "    def purchase(self):\n",
    "        # assume payment made successfully\n",
    "        successful = True\n",
    "        if successful:\n",
    "            for amount in self.cart:\n",
    "                while self.cart[amount]>0:\n",
    "                    self.Vouchers.append(Voucher(self.username, amount))\n",
    "                    self.cart[amount]-=1\n",
    "    # call updateDatabase(username) right after    \n",
    "    \n",
    "    \n",
    "    def get_username(self):\n",
    "        return self.username\n",
    "    def get_Vouchers(self):\n",
    "        return self.Vouchers\n",
    "    def get_loyaltyPoints(self):\n",
    "        return self.loyaltyPoints"
   ]
  },
  {
   "cell_type": "code",
   "execution_count": 57,
   "id": "463aaa92",
   "metadata": {},
   "outputs": [],
   "source": [
    "C = Customer(\"Jack\",\"eedo1dw029\",[],100)"
   ]
  },
  {
   "cell_type": "code",
   "execution_count": 58,
   "id": "d65b1877",
   "metadata": {},
   "outputs": [],
   "source": [
    "C.add_voucher(10)\n",
    "C.add_voucher(50)\n",
    "C.add_voucher(100)\n",
    "C.drop_voucher(100)"
   ]
  },
  {
   "cell_type": "code",
   "execution_count": 59,
   "id": "6270988b",
   "metadata": {},
   "outputs": [],
   "source": [
    "C.purchase()"
   ]
  },
  {
   "cell_type": "code",
   "execution_count": 60,
   "id": "403f06e6",
   "metadata": {},
   "outputs": [
    {
     "data": {
      "text/plain": [
       "('Jack', 100)"
      ]
     },
     "execution_count": 60,
     "metadata": {},
     "output_type": "execute_result"
    }
   ],
   "source": [
    "C.get_username(),C.get_loyaltyPoints()"
   ]
  },
  {
   "cell_type": "code",
   "execution_count": 65,
   "id": "9cfeb006",
   "metadata": {},
   "outputs": [
    {
     "data": {
      "text/plain": [
       "[<__main__.Voucher at 0x130a45c0df0>, <__main__.Voucher at 0x130a45c0d30>]"
      ]
     },
     "execution_count": 65,
     "metadata": {},
     "output_type": "execute_result"
    }
   ],
   "source": [
    "C.get_Vouchers()"
   ]
  },
  {
   "cell_type": "markdown",
   "id": "e42d4070",
   "metadata": {},
   "source": [
    "### Vendor"
   ]
  },
  {
   "cell_type": "code",
   "execution_count": 72,
   "id": "dc448e94",
   "metadata": {},
   "outputs": [],
   "source": [
    "class Vendor():\n",
    "    def __init__(self,username,password):\n",
    "        self.username = username\n",
    "        self.password = password\n",
    "    def scanQR(self, value):                   # input should be \"jacky,cf7788eff41511ebb4939cb6d0216836,50\"\n",
    "        customerUsername, voucherID, amount  = value.split(',')    \n",
    "        self.expireVoucher(customerUsername,voucherID)\n",
    "            \n",
    "    # this is called by the vendor when customer uses a voucher - requires username to search for customer in customer database\n",
    "    # expires the voucher with matching voucherID\n",
    "    def expireVoucher(self,customerUsername,voucherID):\n",
    "        return\n",
    "        \n",
    "        # should update customer database/ remove the voucher"
   ]
  },
  {
   "cell_type": "code",
   "execution_count": 73,
   "id": "d7ba835e",
   "metadata": {},
   "outputs": [],
   "source": [
    "V = Vendor(\"Vendor0\",\"213254353\")"
   ]
  },
  {
   "cell_type": "code",
   "execution_count": 74,
   "id": "471f7167",
   "metadata": {},
   "outputs": [],
   "source": [
    "V.scanQR(\"jacky,cf7788eff41511ebb4939cb6d0216836,50\") # jacky has used his 50 dollar voucher"
   ]
  },
  {
   "cell_type": "code",
   "execution_count": null,
   "id": "abe7dc77",
   "metadata": {},
   "outputs": [],
   "source": []
  },
  {
   "cell_type": "code",
   "execution_count": null,
   "id": "514be763",
   "metadata": {},
   "outputs": [],
   "source": []
  },
  {
   "cell_type": "markdown",
   "id": "dde8dd65",
   "metadata": {},
   "source": [
    "# DEPRECIATED"
   ]
  },
  {
   "cell_type": "markdown",
   "id": "ea0d5f72",
   "metadata": {},
   "source": [
    "#### QRGenerator"
   ]
  },
  {
   "cell_type": "code",
   "execution_count": 47,
   "id": "93c06a90",
   "metadata": {},
   "outputs": [],
   "source": [
    "import qrcode\n",
    "class QRGenerator():\n",
    "    def __init__(self): \n",
    "        self.qr_generator = qrcode.QRCode(version=1,\n",
    "                                          box_size=10,\n",
    "                                          border=5)\n",
    "        \n",
    "    def generate_qr(self,username, voucherID):\n",
    "                    input_data = f\"{username},{voucherID}\"\n",
    "                    self.qr_generator.clear()\n",
    "                    self.qr_generator.add_data(input_data)\n",
    "                    return self.qr_generator.make_image() "
   ]
  },
  {
   "cell_type": "code",
   "execution_count": 48,
   "id": "0c09871d",
   "metadata": {},
   "outputs": [
    {
     "data": {
      "image/png": "[encoded data removed]",
      "text/plain": [
       "<qrcode.image.pil.PilImage at 0x13ba65bd6a0>"
      ]
     },
     "execution_count": 48,
     "metadata": {},
     "output_type": "execute_result"
    }
   ],
   "source": [
    "Gen  = QRGenerator()\n",
    "Gen.generate_qr(\"jacky\",\"V124\")    # scanning this gives \"jacky,V124\""
   ]
  }
 ],
 "metadata": {
  "kernelspec": {
   "display_name": "Python 3",
   "language": "python",
   "name": "python3"
  },
  "language_info": {
   "codemirror_mode": {
    "name": "ipython",
    "version": 3
   },
   "file_extension": ".py",
   "mimetype": "text/x-python",
   "name": "python",
   "nbconvert_exporter": "python",
   "pygments_lexer": "ipython3",
   "version": "3.8.3"
  }
 },
 "nbformat": 4,
 "nbformat_minor": 5
}
